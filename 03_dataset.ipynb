{
 "cells": [
  {
   "cell_type": "markdown",
   "id": "d542d95f",
   "metadata": {},
   "source": [
    "# Defining dataset"
   ]
  },
  {
   "cell_type": "code",
   "execution_count": 1,
   "id": "4084ef29",
   "metadata": {},
   "outputs": [],
   "source": [
    "#| default_exp nb_03_dataset"
   ]
  },
  {
   "cell_type": "code",
   "execution_count": 2,
   "id": "94b9a35e",
   "metadata": {},
   "outputs": [],
   "source": [
    "#|export\n",
    "from pathlib import Path "
   ]
  },
  {
   "cell_type": "code",
   "execution_count": 3,
   "id": "f514dd53",
   "metadata": {},
   "outputs": [],
   "source": [
    "#|export\n",
    "import pandas as pd"
   ]
  },
  {
   "cell_type": "code",
   "execution_count": 4,
   "id": "3ed288ff",
   "metadata": {},
   "outputs": [],
   "source": [
    "#| export\n",
    "import matplotlib.pyplot as plt"
   ]
  },
  {
   "cell_type": "code",
   "execution_count": 5,
   "id": "1c57d8b0",
   "metadata": {},
   "outputs": [],
   "source": [
    "#|export\n",
    "from ml.nb_02_patching import *"
   ]
  },
  {
   "cell_type": "markdown",
   "id": "4c8d57ed",
   "metadata": {},
   "source": [
    "## Data"
   ]
  },
  {
   "cell_type": "code",
   "execution_count": 6,
   "id": "8fd0c72b",
   "metadata": {},
   "outputs": [
    {
     "data": {
      "text/plain": [
       "(1180, 95)"
      ]
     },
     "execution_count": 6,
     "metadata": {},
     "output_type": "execute_result"
    }
   ],
   "source": [
    "df = pd.read_pickle(\"data/df_all_2022_10_06.pkl\")\n",
    "df.shape"
   ]
  },
  {
   "cell_type": "code",
   "execution_count": 7,
   "id": "c210a6a6",
   "metadata": {},
   "outputs": [],
   "source": [
    "#| export\n",
    "import torch.utils.data as data_utils"
   ]
  },
  {
   "cell_type": "code",
   "execution_count": 8,
   "id": "cd906a98",
   "metadata": {},
   "outputs": [],
   "source": [
    "#| export\n",
    "from PIL import Image"
   ]
  },
  {
   "cell_type": "code",
   "execution_count": 9,
   "id": "5e02c395",
   "metadata": {},
   "outputs": [],
   "source": [
    "#| export\n",
    "import torchvision.transforms as transforms"
   ]
  },
  {
   "cell_type": "code",
   "execution_count": 10,
   "id": "24a56601",
   "metadata": {},
   "outputs": [],
   "source": [
    "#| export\n",
    "import numpy as np"
   ]
  },
  {
   "cell_type": "code",
   "execution_count": 11,
   "id": "5f6c84fd",
   "metadata": {},
   "outputs": [],
   "source": [
    "#| export\n",
    "import torch"
   ]
  },
  {
   "cell_type": "code",
   "execution_count": 12,
   "id": "87a3de30",
   "metadata": {},
   "outputs": [],
   "source": [
    "#| export\n",
    "import torchvision"
   ]
  },
  {
   "cell_type": "code",
   "execution_count": 13,
   "id": "34ed941f",
   "metadata": {},
   "outputs": [],
   "source": [
    "#| export\n",
    "import tqdm"
   ]
  },
  {
   "cell_type": "markdown",
   "id": "51e3a0a5",
   "metadata": {},
   "source": [
    "## Dataset"
   ]
  },
  {
   "cell_type": "code",
   "execution_count": 14,
   "id": "b0b9ac9a",
   "metadata": {},
   "outputs": [],
   "source": [
    "#| export\n",
    "class PatchedDataSet(data_utils.Dataset):\n",
    "\n",
    "    \"\"\"Returns a batch of N patches with the specified target in dataframe\"\"\"\n",
    "    \n",
    "    def __init__(self, \n",
    "                 img_path, # Path with images   \n",
    "                 df, # pandas dataframe\n",
    "                 y_col, # df column for target\n",
    "                 stime_col, #df column with survival time\n",
    "                 N, # number of patches\n",
    "                 mean, #mean for normalization\n",
    "                 std,  #std for normalization\n",
    "                 trfms=None #list of transforms\n",
    "                ):\n",
    "        self.img_path = img_path\n",
    "        self.df = df\n",
    "        self.df.reset_index()\n",
    "        self.y_col = y_col\n",
    "        self.stime_col = stime_col\n",
    "        self.N = N\n",
    "        self.mean, self.std = mean, std\n",
    "        self.trfm = trfms\n",
    "        self.img_ids = self.get_img_ids()\n",
    "        \n",
    "    def get_img_ids(self):\n",
    "        col = self.img_path.str()+\"/\"+self.df.TMA_ID+\"_\"+self.df.TMASpot\n",
    "        return col.tolist()\n",
    "                \n",
    "        \n",
    "    def __getitem__(self, idx):\n",
    "        img_id = self.img_ids[idx]\n",
    "        patch_paths = [img_id+\"_\"+str(i)+\".png\" for i in range(self.N)]\n",
    "        patches = []\n",
    "        \n",
    "        transform = transforms.Compose([\n",
    "            transforms.ToTensor()\n",
    "            ])\n",
    "        \n",
    "        for p in patch_paths:\n",
    "            img = Image.open(p)\n",
    "            img = transform(img)\n",
    "            \n",
    "            if self.trfm is not None: \n",
    "                img = self.trfm(img)\n",
    "            \n",
    "            img = transforms.Normalize(self.mean, self.std)(img)\n",
    "            patches.append(img)\n",
    "            \n",
    "        patches = torch.stack(patches, dim=0)\n",
    "        \n",
    "        return patches.clone().detach(), self.df.iloc[idx][self.y_col]\n",
    "    \n",
    "    def __len__(self):\n",
    "        return len(self.img_ids)"
   ]
  },
  {
   "cell_type": "code",
   "execution_count": 15,
   "id": "e44e544b",
   "metadata": {},
   "outputs": [],
   "source": [
    "#| export\n",
    "p_outx = Path(\"/media/dimi/TOSHIBA EXT/patched_images\")\n",
    "p_outy = Path(\"/media/dimi/TOSHIBA EXT/patched_masks\")"
   ]
  },
  {
   "cell_type": "code",
   "execution_count": 16,
   "id": "3e590d2a",
   "metadata": {},
   "outputs": [],
   "source": [
    "#| export\n",
    "mean_img, std_img = [0.8868493, 0.7803772, 0.87521], [0.07292725, 0.09504553, 0.05757239]\n",
    "mean_mask, std_mask = [0.04432359, 0.04432359, 0.04432359], [0.02483896, 0.02483896, 0.02483896]"
   ]
  },
  {
   "cell_type": "code",
   "execution_count": 17,
   "id": "0dae29a9",
   "metadata": {},
   "outputs": [],
   "source": [
    "#| hide\n",
    "import nbdev; nbdev.nbdev_export()"
   ]
  },
  {
   "cell_type": "code",
   "execution_count": null,
   "id": "3707543b",
   "metadata": {},
   "outputs": [],
   "source": []
  }
 ],
 "metadata": {
  "kernelspec": {
   "display_name": "Python 3 (ipykernel)",
   "language": "python",
   "name": "python3"
  },
  "language_info": {
   "codemirror_mode": {
    "name": "ipython",
    "version": 3
   },
   "file_extension": ".py",
   "mimetype": "text/x-python",
   "name": "python",
   "nbconvert_exporter": "python",
   "pygments_lexer": "ipython3",
   "version": "3.10.4"
  },
  "toc": {
   "base_numbering": 1,
   "nav_menu": {},
   "number_sections": true,
   "sideBar": true,
   "skip_h1_title": false,
   "title_cell": "Table of Contents",
   "title_sidebar": "Contents",
   "toc_cell": false,
   "toc_position": {},
   "toc_section_display": true,
   "toc_window_display": false
  }
 },
 "nbformat": 4,
 "nbformat_minor": 5
}
