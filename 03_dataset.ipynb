{
 "cells": [
  {
   "cell_type": "markdown",
   "id": "d542d95f",
   "metadata": {},
   "source": [
    "# Defining dataset"
   ]
  },
  {
   "cell_type": "code",
   "execution_count": 1,
   "id": "4084ef29",
   "metadata": {},
   "outputs": [],
   "source": [
    "#| default_exp nb_03_dataset"
   ]
  },
  {
   "cell_type": "code",
   "execution_count": 2,
   "id": "94b9a35e",
   "metadata": {},
   "outputs": [],
   "source": [
    "#|export\n",
    "from pathlib import Path "
   ]
  },
  {
   "cell_type": "code",
   "execution_count": 3,
   "id": "f514dd53",
   "metadata": {},
   "outputs": [],
   "source": [
    "#|export\n",
    "import pandas as pd"
   ]
  },
  {
   "cell_type": "code",
   "execution_count": 4,
   "id": "3ed288ff",
   "metadata": {},
   "outputs": [],
   "source": [
    "#| export\n",
    "import matplotlib.pyplot as plt"
   ]
  },
  {
   "cell_type": "code",
   "execution_count": 5,
   "id": "1c57d8b0",
   "metadata": {},
   "outputs": [],
   "source": [
    "#|export\n",
    "from ml.nb_02_patching import *"
   ]
  },
  {
   "cell_type": "markdown",
   "id": "4c8d57ed",
   "metadata": {},
   "source": [
    "## Data"
   ]
  },
  {
   "cell_type": "code",
   "execution_count": 6,
   "id": "8fd0c72b",
   "metadata": {},
   "outputs": [
    {
     "data": {
      "text/plain": [
       "(1180, 95)"
      ]
     },
     "execution_count": 6,
     "metadata": {},
     "output_type": "execute_result"
    }
   ],
   "source": [
    "df = pd.read_pickle(\"data/df_all_2022_10_06.pkl\")\n",
    "df.shape"
   ]
  },
  {
   "cell_type": "code",
   "execution_count": 7,
   "id": "c210a6a6",
   "metadata": {},
   "outputs": [],
   "source": [
    "#| export\n",
    "import torch.utils.data as data_utils"
   ]
  },
  {
   "cell_type": "code",
   "execution_count": 8,
   "id": "cd906a98",
   "metadata": {},
   "outputs": [],
   "source": [
    "#| export\n",
    "from PIL import Image"
   ]
  },
  {
   "cell_type": "code",
   "execution_count": 9,
   "id": "5e02c395",
   "metadata": {},
   "outputs": [],
   "source": [
    "#| export\n",
    "import torchvision.transforms as transforms"
   ]
  },
  {
   "cell_type": "code",
   "execution_count": 10,
   "id": "24a56601",
   "metadata": {},
   "outputs": [],
   "source": [
    "#| export\n",
    "import numpy as np"
   ]
  },
  {
   "cell_type": "code",
   "execution_count": 11,
   "id": "5f6c84fd",
   "metadata": {},
   "outputs": [],
   "source": [
    "#| export\n",
    "import torch"
   ]
  },
  {
   "cell_type": "code",
   "execution_count": 12,
   "id": "87a3de30",
   "metadata": {},
   "outputs": [],
   "source": [
    "#| export\n",
    "import torchvision"
   ]
  },
  {
   "cell_type": "code",
   "execution_count": 13,
   "id": "34ed941f",
   "metadata": {},
   "outputs": [],
   "source": [
    "#| export\n",
    "import tqdm"
   ]
  },
  {
   "cell_type": "markdown",
   "id": "51e3a0a5",
   "metadata": {},
   "source": [
    "## Dataset"
   ]
  },
  {
   "cell_type": "code",
   "execution_count": 14,
   "id": "b0b9ac9a",
   "metadata": {},
   "outputs": [],
   "source": [
    "#| export\n",
    "class PatchedDataSet(data_utils.Dataset):\n",
    "\n",
    "    \"\"\"Returns a batch of N patches with the specified target in dataframe\"\"\"\n",
    "    \n",
    "    def __init__(self, \n",
    "                 img_path, # Path with images   \n",
    "                 df, # pandas dataframe\n",
    "                 y_col, # df column for target\n",
    "                 stime_col, #df column with survival time\n",
    "                 N, # number of patches\n",
    "                 mean, #mean for normalization\n",
    "                 std,  #std for normalization\n",
    "                 trfms=None #list of transforms\n",
    "                ):\n",
    "        self.img_path = img_path\n",
    "        self.df = df\n",
    "        self.df.reset_index()\n",
    "        self.y_col = y_col\n",
    "        self.stime_col = stime_col\n",
    "        self.N = N\n",
    "        self.mean, self.std = mean, std\n",
    "        self.trfm = trfms\n",
    "        self.img_ids = self.get_img_ids()\n",
    "        \n",
    "    def get_img_ids(self):\n",
    "        col = self.img_path.str()+\"/\"+self.df.TMA_ID+\"_\"+self.df.TMASpot\n",
    "        return col.tolist()\n",
    "                \n",
    "        \n",
    "    def __getitem__(self, idx):\n",
    "        img_id = self.img_ids[idx]\n",
    "        patch_paths = [img_id+\"_\"+str(i)+\".png\" for i in range(self.N)]\n",
    "        patches = []\n",
    "        \n",
    "        transform = transforms.Compose([\n",
    "            transforms.ToTensor()\n",
    "            ])\n",
    "        \n",
    "        for p in patch_paths:\n",
    "            img = Image.open(p)\n",
    "            img = transform(img)\n",
    "            \n",
    "            if self.trfm is not None: \n",
    "                img = self.trfm(img)\n",
    "            \n",
    "            img = transforms.Normalize(self.mean, self.std)(img)\n",
    "            patches.append(img)\n",
    "            \n",
    "        patches = torch.stack(patches, dim=0)\n",
    "        \n",
    "        return patches.clone(), torch.tensor(self.df.iloc[idx][self.y_col]) #.detach()\n",
    "    \n",
    "    def __len__(self):\n",
    "        return len(self.img_ids)"
   ]
  },
  {
   "cell_type": "code",
   "execution_count": 15,
   "id": "e44e544b",
   "metadata": {},
   "outputs": [],
   "source": [
    "#| export\n",
    "p_outx = Path(\"/media/dimi/TOSHIBA EXT/patched_images\")\n",
    "p_outy = Path(\"/media/dimi/TOSHIBA EXT/patched_masks\")"
   ]
  },
  {
   "cell_type": "code",
   "execution_count": 16,
   "id": "3e590d2a",
   "metadata": {},
   "outputs": [],
   "source": [
    "#| export\n",
    "mean_img, std_img = [0.8868493, 0.7803772, 0.87521], [0.07292725, 0.09504553, 0.05757239]\n",
    "mean_mask, std_mask = [0.04432359, 0.04432359, 0.04432359], [0.02483896, 0.02483896, 0.02483896]"
   ]
  },
  {
   "cell_type": "code",
   "execution_count": 17,
   "id": "4a709189",
   "metadata": {},
   "outputs": [
    {
     "name": "stdout",
     "output_type": "stream",
     "text": [
      "(1177, 95)\n"
     ]
    }
   ],
   "source": [
    "df.loc[df[\"G\"]==\"2\", \"G\"] = 2\n",
    "df = df.loc[df[\"G\"]!=\"1,2\"]\n",
    "print(df.shape)"
   ]
  },
  {
   "cell_type": "code",
   "execution_count": 18,
   "id": "4744f638",
   "metadata": {},
   "outputs": [],
   "source": [
    "df[\"G\"] = df[\"G\"]-1"
   ]
  },
  {
   "cell_type": "code",
   "execution_count": 19,
   "id": "cfe6af14",
   "metadata": {},
   "outputs": [
    {
     "data": {
      "text/plain": [
       "array([1, 0, 2], dtype=object)"
      ]
     },
     "execution_count": 19,
     "metadata": {},
     "output_type": "execute_result"
    }
   ],
   "source": [
    "df.G.unique()"
   ]
  },
  {
   "cell_type": "code",
   "execution_count": 20,
   "id": "3528a311",
   "metadata": {},
   "outputs": [],
   "source": [
    "df = df.sample(n=200)\n",
    "ds = PatchedDataSet(p_outx, df, \"G\", \"stime_10y_dom\", 12, mean_img, std_img)"
   ]
  },
  {
   "cell_type": "code",
   "execution_count": 21,
   "id": "33b376ea",
   "metadata": {},
   "outputs": [
    {
     "data": {
      "text/plain": [
       "2"
      ]
     },
     "execution_count": 21,
     "metadata": {},
     "output_type": "execute_result"
    }
   ],
   "source": [
    "len(ds[0])"
   ]
  },
  {
   "cell_type": "code",
   "execution_count": 22,
   "id": "03428d47",
   "metadata": {},
   "outputs": [
    {
     "data": {
      "text/plain": [
       "torch.Size([12, 3, 128, 128])"
      ]
     },
     "execution_count": 22,
     "metadata": {},
     "output_type": "execute_result"
    }
   ],
   "source": [
    "ds[0][0].shape"
   ]
  },
  {
   "cell_type": "code",
   "execution_count": 23,
   "id": "daadc9ee",
   "metadata": {},
   "outputs": [
    {
     "data": {
      "text/plain": [
       "tensor(0)"
      ]
     },
     "execution_count": 23,
     "metadata": {},
     "output_type": "execute_result"
    }
   ],
   "source": [
    "ds[0][1]"
   ]
  },
  {
   "cell_type": "code",
   "execution_count": 24,
   "id": "496d52d0",
   "metadata": {},
   "outputs": [
    {
     "data": {
      "text/plain": [
       "torch.Size([])"
      ]
     },
     "execution_count": 24,
     "metadata": {},
     "output_type": "execute_result"
    }
   ],
   "source": [
    "ds[0][1].shape"
   ]
  },
  {
   "cell_type": "code",
   "execution_count": 25,
   "id": "91e2c4a0",
   "metadata": {},
   "outputs": [],
   "source": [
    "from torch.utils.data import DataLoader"
   ]
  },
  {
   "cell_type": "code",
   "execution_count": 26,
   "id": "ec720fde",
   "metadata": {},
   "outputs": [],
   "source": [
    "bs = 4\n",
    "dl = DataLoader(ds, batch_size=bs) "
   ]
  },
  {
   "cell_type": "code",
   "execution_count": 27,
   "id": "67ac2ba5",
   "metadata": {},
   "outputs": [
    {
     "name": "stdout",
     "output_type": "stream",
     "text": [
      "Shape of X [N, C, H, W]: torch.Size([4, 12, 3, 128, 128])\n",
      "Shape of y: torch.Size([4]) torch.int64\n"
     ]
    }
   ],
   "source": [
    "for X, y in dl:\n",
    "    print(f\"Shape of X [N, C, H, W]: {X.shape}\")\n",
    "    print(f\"Shape of y: {y.shape} {y.dtype}\")\n",
    "    break"
   ]
  },
  {
   "cell_type": "code",
   "execution_count": 28,
   "id": "4ea4f88b",
   "metadata": {},
   "outputs": [],
   "source": [
    "from torch import nn"
   ]
  },
  {
   "cell_type": "code",
   "execution_count": 29,
   "id": "54346316",
   "metadata": {},
   "outputs": [
    {
     "name": "stdout",
     "output_type": "stream",
     "text": [
      "Using cuda device\n"
     ]
    }
   ],
   "source": [
    "device = \"cuda\" if torch.cuda.is_available() else \"cpu\"\n",
    "print(f\"Using {device} device\")"
   ]
  },
  {
   "cell_type": "code",
   "execution_count": 30,
   "id": "3286928e",
   "metadata": {},
   "outputs": [],
   "source": [
    "class AdaptiveConcatPool2d(nn.Module):\n",
    "    \"Layer that concats `AdaptiveAvgPool2d` and `AdaptiveMaxPool2d`\"\n",
    "    def __init__(self, size=None):\n",
    "        super(AdaptiveConcatPool2d, self).__init__()\n",
    "        self.size = size or 1\n",
    "        self.ap = nn.AdaptiveAvgPool2d(self.size)\n",
    "        self.mp = nn.AdaptiveMaxPool2d(self.size)\n",
    "    def forward(self, x): return torch.cat([self.mp(x), self.ap(x)], 1)"
   ]
  },
  {
   "cell_type": "code",
   "execution_count": 31,
   "id": "ec15f58f",
   "metadata": {},
   "outputs": [],
   "source": [
    "# Define model\n",
    "class NeuralNetwork(nn.Module):\n",
    "    def __init__(self, arch='resnext50_32x4d_ssl', n=3, pre=True):\n",
    "        super().__init__()\n",
    "        m = torch.hub.load('facebookresearch/semi-supervised-ImageNet1K-models', arch)\n",
    "        self.enc = nn.Sequential(*list(m.children())[:-2])       \n",
    "        nc = list(m.children())[-1].in_features\n",
    "        self.head = nn.Sequential(AdaptiveConcatPool2d(),nn.Flatten(),nn.Linear(2*nc,512),\n",
    "                            nn.Mish(),nn.BatchNorm1d(512), nn.Dropout(0.5),nn.Linear(512,n))\n",
    "\n",
    "    def forward(self, *x):\n",
    "        shape = x[0].shape  #4, 12, 3, 128, 128\n",
    "        bs, N, c, sz_x, sz_y = shape[0], shape[1], shape[2], shape[3], shape[4]\n",
    "        x = torch.stack(x,1).view(-1, c, sz_x, sz_y)\n",
    "        x = self.enc(x) #x: bs*N x C x 4 x 4\n",
    "        shape = x.shape \n",
    "        x = x.view(-1,N,shape[1],shape[2],shape[3]).permute(0,2,1,3,4).contiguous()\\\n",
    "             .view(bs,shape[1],shape[2]*N,shape[3])  #x: bs x C x N*4 x 4\n",
    "        x = self.head(x) #x: bs x N\n",
    "        return x"
   ]
  },
  {
   "cell_type": "code",
   "execution_count": 32,
   "id": "f331c15e",
   "metadata": {},
   "outputs": [
    {
     "name": "stderr",
     "output_type": "stream",
     "text": [
      "Using cache found in /home/dimi/.cache/torch/hub/facebookresearch_semi-supervised-ImageNet1K-models_master\n"
     ]
    }
   ],
   "source": [
    "model = NeuralNetwork().to(device)"
   ]
  },
  {
   "cell_type": "code",
   "execution_count": 33,
   "id": "effa6763",
   "metadata": {},
   "outputs": [],
   "source": [
    "loss_fn = nn.CrossEntropyLoss()\n",
    "optimizer = torch.optim.SGD(model.parameters(), lr=1e-3)"
   ]
  },
  {
   "cell_type": "code",
   "execution_count": 34,
   "id": "90241ae3",
   "metadata": {},
   "outputs": [],
   "source": [
    "from fastai.data.core import DataLoaders"
   ]
  },
  {
   "cell_type": "code",
   "execution_count": null,
   "id": "87a0ebef",
   "metadata": {},
   "outputs": [],
   "source": [
    "dls = DataLoaders.from_dsets(train_ds, valid_ds)"
   ]
  },
  {
   "cell_type": "code",
   "execution_count": null,
   "id": "49d4f907",
   "metadata": {},
   "outputs": [],
   "source": []
  },
  {
   "cell_type": "code",
   "execution_count": null,
   "id": "11d76abe",
   "metadata": {},
   "outputs": [],
   "source": []
  },
  {
   "cell_type": "code",
   "execution_count": null,
   "id": "26538512",
   "metadata": {},
   "outputs": [],
   "source": []
  },
  {
   "cell_type": "code",
   "execution_count": 35,
   "id": "68fbaeaa",
   "metadata": {},
   "outputs": [],
   "source": [
    "def train(dataloader, model, loss_fn, optimizer):\n",
    "    size = len(dataloader.dataset)\n",
    "    model.train()\n",
    "    for batch, (X, y) in enumerate(dataloader):\n",
    "        y = y.type(torch.LongTensor) \n",
    "        X, y = X.to(device), y.to(device)\n",
    "\n",
    "        # Compute prediction error\n",
    "        pred = model(X)\n",
    "        loss = loss_fn(pred, y)\n",
    "\n",
    "        # Backpropagation\n",
    "        optimizer.zero_grad()\n",
    "        loss.backward()\n",
    "        optimizer.step()\n",
    "\n",
    "        if batch % 10 == 0:\n",
    "            loss, current = loss.item(), batch * len(X)\n",
    "            print(f\"loss: {loss:>7f}  [{current:>5d}/{size:>5d}]\")"
   ]
  },
  {
   "cell_type": "code",
   "execution_count": null,
   "id": "b909a4f9",
   "metadata": {},
   "outputs": [],
   "source": [
    "def test(dataloader, model, loss_fn):\n",
    "    size = len(dataloader.dataset)\n",
    "    num_batches = len(dataloader)\n",
    "    model.eval()\n",
    "    test_loss, correct = 0, 0\n",
    "    with torch.no_grad():\n",
    "        for X, y in dataloader:\n",
    "            y = y.type(torch.LongTensor) \n",
    "            X, y = X.to(device), y.to(device)\n",
    "            pred = model(X)\n",
    "            test_loss += loss_fn(pred, y).item()\n",
    "            correct += (pred.argmax(1) == y).type(torch.float).sum().item()\n",
    "    test_loss /= num_batches\n",
    "    correct /= size\n",
    "    print(f\"Test Error: \\n Accuracy: {(100*correct):>0.1f}%, Avg loss: {test_loss:>8f} \\n\")"
   ]
  },
  {
   "cell_type": "code",
   "execution_count": 36,
   "id": "3ddf4b5c",
   "metadata": {},
   "outputs": [
    {
     "name": "stdout",
     "output_type": "stream",
     "text": [
      "Epoch 1\n",
      "-------------------------------\n",
      "tensor([1, 1, 1, 1], device='cuda:0')\n",
      "tensor([[ 0.2069,  0.4046,  0.0559],\n",
      "        [-0.7266,  0.1618,  0.4810],\n",
      "        [-1.0261, -0.3195, -0.1811],\n",
      "        [ 0.7072, -0.5115,  0.4948]], device='cuda:0',\n",
      "       grad_fn=<AddmmBackward0>)\n",
      "tensor([1, 2, 1, 1], device='cuda:0')\n",
      "tensor([[ 0.6951, -0.5888, -0.5273],\n",
      "        [ 0.2523, -0.5889,  0.6086],\n",
      "        [-0.7350, -0.0066, -0.8416],\n",
      "        [ 0.6509, -0.7908,  0.6060]], device='cuda:0',\n",
      "       grad_fn=<AddmmBackward0>)\n",
      "tensor([1, 1, 1, 1], device='cuda:0')\n",
      "tensor([[-1.0739, -0.8324,  2.7159],\n",
      "        [ 0.1001,  0.7186, -1.5184],\n",
      "        [ 0.1861, -0.1318, -0.4231],\n",
      "        [-0.3501, -0.2506, -0.4150]], device='cuda:0',\n",
      "       grad_fn=<AddmmBackward0>)\n",
      "tensor([1, 1, 0, 1], device='cuda:0')\n",
      "tensor([[ 0.7810, -1.1832,  0.6785],\n",
      "        [ 0.4082,  1.2784,  0.3549],\n",
      "        [-1.1485,  0.1416,  0.1205],\n",
      "        [ 1.2448,  0.3804,  0.3426]], device='cuda:0',\n",
      "       grad_fn=<AddmmBackward0>)\n",
      "tensor([1, 1, 1, 2], device='cuda:0')\n",
      "tensor([[-0.5844,  0.0131,  0.4135],\n",
      "        [ 0.3184,  1.5301, -0.3710],\n",
      "        [ 2.4019, -1.0031, -1.0593],\n",
      "        [ 0.5786, -0.8095, -0.1661]], device='cuda:0',\n",
      "       grad_fn=<AddmmBackward0>)\n",
      "tensor([1, 1, 2, 1], device='cuda:0')\n",
      "tensor([[ 0.9315, -1.2590, -0.2264],\n",
      "        [-0.5109,  0.9452,  0.2631],\n",
      "        [ 0.2865,  0.8003,  0.9900],\n",
      "        [-0.6376, -1.5218,  0.4609]], device='cuda:0',\n",
      "       grad_fn=<AddmmBackward0>)\n",
      "tensor([1, 1, 1, 1], device='cuda:0')\n",
      "tensor([[ 0.2569,  0.9460,  0.1667],\n",
      "        [-0.1563, -0.4230,  0.2789],\n",
      "        [ 0.7896, -0.2974, -0.7673],\n",
      "        [-0.5885,  0.0824,  1.3259]], device='cuda:0',\n",
      "       grad_fn=<AddmmBackward0>)\n",
      "tensor([1, 0, 1, 1], device='cuda:0')\n",
      "tensor([[-0.5919, -0.9024,  1.1951],\n",
      "        [-0.0689,  0.6677,  0.3441],\n",
      "        [-0.2023,  0.1643,  1.1690],\n",
      "        [ 0.4935,  0.1682, -2.0619]], device='cuda:0',\n",
      "       grad_fn=<AddmmBackward0>)\n",
      "tensor([0, 1, 1, 1], device='cuda:0')\n",
      "tensor([[ 0.6365, -0.7266, -0.5535],\n",
      "        [-0.0075,  0.4556,  0.7515],\n",
      "        [ 0.0867,  0.1791, -1.5611],\n",
      "        [-1.0115,  0.8084, -0.9125]], device='cuda:0',\n",
      "       grad_fn=<AddmmBackward0>)\n",
      "tensor([1, 1, 1, 1], device='cuda:0')\n",
      "tensor([[-0.5975,  1.0065,  0.7203],\n",
      "        [ 0.0826,  0.2244, -0.7208],\n",
      "        [-0.0348, -0.3418, -0.6259],\n",
      "        [-0.1235, -0.5082,  1.0105]], device='cuda:0',\n",
      "       grad_fn=<AddmmBackward0>)\n",
      "tensor([1, 0, 1, 1], device='cuda:0')\n",
      "tensor([[-0.4367,  0.1084,  0.0030],\n",
      "        [ 0.4882, -0.1213, -0.8581],\n",
      "        [ 0.5984, -2.3774,  0.8921],\n",
      "        [ 0.0199, -0.0947,  0.0033]], device='cuda:0',\n",
      "       grad_fn=<AddmmBackward0>)\n",
      "tensor([0, 2, 0, 1], device='cuda:0')\n",
      "tensor([[-0.8429, -0.2614,  0.1571],\n",
      "        [-0.5136, -0.5896,  0.3699],\n",
      "        [ 0.0869, -0.3961,  0.6514],\n",
      "        [ 0.2326, -0.0547,  0.8584]], device='cuda:0',\n",
      "       grad_fn=<AddmmBackward0>)\n",
      "tensor([1, 1, 2, 1], device='cuda:0')\n",
      "tensor([[-0.0566, -1.1617,  0.0083],\n",
      "        [ 0.4445,  1.7463, -0.6024],\n",
      "        [ 0.0810, -0.9606, -0.6358],\n",
      "        [ 0.3107, -0.3919,  0.2335]], device='cuda:0',\n",
      "       grad_fn=<AddmmBackward0>)\n",
      "tensor([1, 0, 0, 0], device='cuda:0')\n",
      "tensor([[ 0.1488,  0.9175, -1.2359],\n",
      "        [ 0.2191,  0.1032,  0.4732],\n",
      "        [ 1.2560, -1.2492,  0.7455],\n",
      "        [-0.5829,  1.4573, -0.7596]], device='cuda:0',\n",
      "       grad_fn=<AddmmBackward0>)\n",
      "tensor([1, 1, 1, 1], device='cuda:0')\n",
      "tensor([[ 0.2298, -0.5634, -0.1967],\n",
      "        [-1.9258,  2.7083, -0.3626],\n",
      "        [ 0.9414, -1.3087, -0.0987],\n",
      "        [-0.3470, -0.8384, -0.2103]], device='cuda:0',\n",
      "       grad_fn=<AddmmBackward0>)\n",
      "tensor([1, 0, 1, 1], device='cuda:0')\n",
      "tensor([[-0.6462, -0.8534, -0.1372],\n",
      "        [ 0.9318,  0.2854, -0.4679],\n",
      "        [-0.7140,  0.3863, -0.7498],\n",
      "        [-0.7037, -0.7372, -0.2508]], device='cuda:0',\n",
      "       grad_fn=<AddmmBackward0>)\n",
      "tensor([1, 1, 1, 1], device='cuda:0')\n",
      "tensor([[-1.5792,  0.9884,  0.5900],\n",
      "        [ 0.6974,  0.6416, -0.9821],\n",
      "        [-0.3700,  0.2607,  0.4971],\n",
      "        [ 0.2189,  0.8559, -1.1635]], device='cuda:0',\n",
      "       grad_fn=<AddmmBackward0>)\n",
      "tensor([0, 1, 1, 1], device='cuda:0')\n",
      "tensor([[ 0.6213,  1.5187, -0.0518],\n",
      "        [ 0.4885, -0.8291,  0.4316],\n",
      "        [-0.2959,  0.5670,  1.4276],\n",
      "        [ 0.0428, -0.8845, -1.6668]], device='cuda:0',\n",
      "       grad_fn=<AddmmBackward0>)\n",
      "tensor([1, 0, 1, 1], device='cuda:0')\n",
      "tensor([[-0.5327, -0.2393, -0.2724],\n",
      "        [ 0.6100,  1.1200,  0.6245],\n",
      "        [ 0.9606,  0.9628, -1.6958],\n",
      "        [ 0.2777, -0.2957, -0.8239]], device='cuda:0',\n",
      "       grad_fn=<AddmmBackward0>)\n",
      "tensor([1, 1, 2, 1], device='cuda:0')\n",
      "tensor([[ 0.5743,  0.0494,  0.2261],\n",
      "        [ 1.8225, -2.3642,  1.5891],\n",
      "        [-0.8272, -1.2431, -0.6252],\n",
      "        [-1.1037,  0.2891, -0.0060]], device='cuda:0',\n",
      "       grad_fn=<AddmmBackward0>)\n",
      "tensor([1, 1, 1, 0], device='cuda:0')\n",
      "tensor([[-0.3469,  1.2635, -0.2556],\n",
      "        [-0.0090, -0.2268, -1.8464],\n",
      "        [ 0.8067, -1.2491,  1.3177],\n",
      "        [-0.1163,  0.3382, -0.8976]], device='cuda:0',\n",
      "       grad_fn=<AddmmBackward0>)\n",
      "tensor([0, 1, 1, 1], device='cuda:0')\n",
      "tensor([[ 0.4973,  0.0840,  0.7873],\n",
      "        [-0.7299, -0.2955, -0.9080],\n",
      "        [-0.4566,  0.6078, -0.1439],\n",
      "        [-1.7705,  0.0834,  0.0214]], device='cuda:0',\n",
      "       grad_fn=<AddmmBackward0>)\n",
      "tensor([1, 1, 1, 1], device='cuda:0')\n",
      "tensor([[ 0.0583,  0.0419,  0.6739],\n",
      "        [ 0.4511, -0.3556,  0.2556],\n",
      "        [-0.5851,  0.2466,  0.1322],\n",
      "        [ 0.5552,  0.1458, -0.1564]], device='cuda:0',\n",
      "       grad_fn=<AddmmBackward0>)\n",
      "tensor([1, 1, 2, 1], device='cuda:0')\n",
      "tensor([[-0.1129, -1.7809,  0.4981],\n",
      "        [ 0.7449, -0.5738, -1.1478],\n",
      "        [ 0.3078,  0.6942,  1.0652],\n",
      "        [-1.7903,  0.3447,  0.2175]], device='cuda:0',\n",
      "       grad_fn=<AddmmBackward0>)\n",
      "tensor([1, 1, 1, 1], device='cuda:0')\n",
      "tensor([[ 0.7964, -0.2095, -0.3621],\n",
      "        [-0.1596,  0.1435,  0.7547],\n",
      "        [-0.6134, -0.6093,  0.0821],\n",
      "        [-0.2696, -0.5048,  0.3219]], device='cuda:0',\n",
      "       grad_fn=<AddmmBackward0>)\n",
      "tensor([2, 0, 1, 1], device='cuda:0')\n",
      "tensor([[-0.0043,  0.3781, -1.8548],\n",
      "        [-0.5005,  0.1331,  0.9838],\n",
      "        [-0.2376, -0.1014,  0.6251],\n",
      "        [ 0.0795, -0.2811,  0.3895]], device='cuda:0',\n",
      "       grad_fn=<AddmmBackward0>)\n",
      "tensor([0, 1, 0, 1], device='cuda:0')\n",
      "tensor([[-0.4130,  1.2760, -1.2616],\n",
      "        [ 0.2953, -0.3288,  0.6801],\n",
      "        [ 0.5044, -1.1666, -0.5359],\n",
      "        [-0.5626, -0.9706,  0.8512]], device='cuda:0',\n",
      "       grad_fn=<AddmmBackward0>)\n",
      "tensor([1, 1, 1, 1], device='cuda:0')\n",
      "tensor([[ 1.8484,  0.3929, -0.1389],\n",
      "        [ 0.2195, -0.5371, -1.1397],\n",
      "        [ 0.2091,  0.2421, -0.0636],\n",
      "        [-1.4333,  0.3592, -0.4436]], device='cuda:0',\n",
      "       grad_fn=<AddmmBackward0>)\n",
      "tensor([1, 1, 1, 1], device='cuda:0')\n",
      "tensor([[ 1.0160, -0.8548, -0.0473],\n",
      "        [ 0.8773, -0.5502, -1.1678],\n",
      "        [ 0.3894,  0.5063,  2.3880],\n",
      "        [-0.2904, -0.3313,  1.5093]], device='cuda:0',\n",
      "       grad_fn=<AddmmBackward0>)\n",
      "tensor([1, 2, 1, 1], device='cuda:0')\n",
      "tensor([[ 0.6610, -0.4863, -0.6416],\n",
      "        [ 0.8268,  0.5430,  1.2524],\n",
      "        [ 0.4106,  0.3677, -0.8257],\n",
      "        [-0.5462,  0.1498,  0.1328]], device='cuda:0',\n",
      "       grad_fn=<AddmmBackward0>)\n",
      "tensor([1, 1, 1, 1], device='cuda:0')\n",
      "tensor([[-0.4052, -1.8479, -0.7001],\n",
      "        [ 0.3236, -1.1357,  0.7890],\n",
      "        [ 0.4529, -0.1908, -0.0372],\n",
      "        [-0.1434,  0.5762, -0.3552]], device='cuda:0',\n",
      "       grad_fn=<AddmmBackward0>)\n",
      "tensor([2, 1, 1, 1], device='cuda:0')\n",
      "tensor([[-0.1944,  1.2682,  1.2793],\n",
      "        [-0.9491, -0.3295,  0.5703],\n",
      "        [-0.2980,  0.4580, -0.5619],\n",
      "        [ 0.3957,  1.2923,  1.2393]], device='cuda:0',\n",
      "       grad_fn=<AddmmBackward0>)\n",
      "tensor([1, 1, 1, 1], device='cuda:0')\n",
      "tensor([[-0.3650,  0.8700, -0.1291],\n",
      "        [ 0.8244,  0.6163, -1.6286],\n",
      "        [ 0.1408, -1.8227, -0.0841],\n",
      "        [-0.2822,  0.5121,  1.0099]], device='cuda:0',\n",
      "       grad_fn=<AddmmBackward0>)\n",
      "tensor([1, 1, 1, 1], device='cuda:0')\n",
      "tensor([[-0.0548,  1.0086,  0.3632],\n",
      "        [-1.0196, -0.2105,  1.4132],\n",
      "        [ 0.4889,  0.7506, -0.3081],\n",
      "        [-0.3971, -0.5908,  0.2488]], device='cuda:0',\n",
      "       grad_fn=<AddmmBackward0>)\n",
      "tensor([1, 1, 1, 1], device='cuda:0')\n",
      "tensor([[ 0.0574,  0.8429, -2.1860],\n",
      "        [-0.8756,  0.5848, -0.9105],\n",
      "        [-0.4777,  0.2716, -0.3963],\n",
      "        [-0.0447, -2.0368,  0.4817]], device='cuda:0',\n",
      "       grad_fn=<AddmmBackward0>)\n"
     ]
    },
    {
     "name": "stdout",
     "output_type": "stream",
     "text": [
      "tensor([1, 0, 1, 0], device='cuda:0')\n",
      "tensor([[-0.1176,  0.8290, -0.4827],\n",
      "        [ 0.3556, -0.0141, -1.3136],\n",
      "        [ 0.3518,  0.9605, -0.6741],\n",
      "        [-0.3703,  0.4548, -0.2588]], device='cuda:0',\n",
      "       grad_fn=<AddmmBackward0>)\n",
      "tensor([1, 1, 1, 0], device='cuda:0')\n",
      "tensor([[-0.4375,  0.7729,  0.8238],\n",
      "        [ 0.1329, -0.5159, -0.5805],\n",
      "        [ 0.1083,  0.1209,  0.3634],\n",
      "        [-0.3977, -0.5174,  1.5060]], device='cuda:0',\n",
      "       grad_fn=<AddmmBackward0>)\n",
      "tensor([1, 0, 1, 1], device='cuda:0')\n",
      "tensor([[-1.2716,  0.4035,  0.9005],\n",
      "        [ 0.3969, -1.0425,  0.8369],\n",
      "        [-0.9764,  0.8475,  0.3792],\n",
      "        [ 0.7822,  0.2189,  0.0409]], device='cuda:0',\n",
      "       grad_fn=<AddmmBackward0>)\n",
      "tensor([1, 1, 1, 1], device='cuda:0')\n",
      "tensor([[ 0.4296, -0.2620,  0.4962],\n",
      "        [ 0.1883,  0.1316, -0.1055],\n",
      "        [ 1.3895, -1.4807,  0.8120],\n",
      "        [-1.0143,  1.0145, -1.2136]], device='cuda:0',\n",
      "       grad_fn=<AddmmBackward0>)\n",
      "tensor([1, 1, 1, 1], device='cuda:0')\n",
      "tensor([[ 0.8004, -0.1380,  0.3002],\n",
      "        [ 0.2882, -0.2457, -1.0404],\n",
      "        [ 0.0449,  0.9829, -0.5035],\n",
      "        [-0.1228,  0.7511, -0.7320]], device='cuda:0',\n",
      "       grad_fn=<AddmmBackward0>)\n",
      "tensor([1, 1, 1, 1], device='cuda:0')\n",
      "tensor([[ 0.6314,  0.0166,  0.2848],\n",
      "        [-0.8051,  0.4411,  0.2822],\n",
      "        [-0.4184,  0.2499, -0.1499],\n",
      "        [-0.4990,  0.9781,  0.4350]], device='cuda:0',\n",
      "       grad_fn=<AddmmBackward0>)\n",
      "tensor([1, 1, 1, 0], device='cuda:0')\n",
      "tensor([[ 0.2932,  1.5060, -0.0129],\n",
      "        [-0.8853,  0.4503, -0.3354],\n",
      "        [ 0.7214, -0.1196, -0.1887],\n",
      "        [-0.3194,  0.1475,  0.5012]], device='cuda:0',\n",
      "       grad_fn=<AddmmBackward0>)\n",
      "tensor([1, 1, 0, 1], device='cuda:0')\n",
      "tensor([[-0.2597, -1.3539, -0.3161],\n",
      "        [-0.2644,  0.8675, -0.4721],\n",
      "        [-0.5624, -1.0034,  0.8427],\n",
      "        [ 0.0070, -0.1875,  0.5008]], device='cuda:0',\n",
      "       grad_fn=<AddmmBackward0>)\n",
      "tensor([2, 2, 1, 1], device='cuda:0')\n",
      "tensor([[-1.2163,  0.0888, -0.0286],\n",
      "        [-1.0523,  0.6688, -0.4334],\n",
      "        [-0.0810, -0.3306,  0.2924],\n",
      "        [ 0.2882, -0.4013, -0.9660]], device='cuda:0',\n",
      "       grad_fn=<AddmmBackward0>)\n",
      "tensor([1, 1, 1, 1], device='cuda:0')\n",
      "tensor([[-0.5967,  0.2143,  0.3693],\n",
      "        [-0.3701,  0.2536,  1.2025],\n",
      "        [-0.1934,  2.4832, -0.8617],\n",
      "        [-0.3782,  0.0214, -0.0196]], device='cuda:0',\n",
      "       grad_fn=<AddmmBackward0>)\n",
      "tensor([1, 1, 1, 1], device='cuda:0')\n",
      "tensor([[ 0.5543, -0.3176, -0.1068],\n",
      "        [-0.7349,  1.0319,  0.2423],\n",
      "        [ 0.2621,  0.3365, -0.0608],\n",
      "        [ 0.6484,  0.2867, -0.0652]], device='cuda:0',\n",
      "       grad_fn=<AddmmBackward0>)\n",
      "tensor([1, 0, 1, 1], device='cuda:0')\n",
      "tensor([[-0.1649,  1.4765,  0.7445],\n",
      "        [-0.5277, -0.3811, -1.1677],\n",
      "        [-1.6617,  0.5310, -0.1948],\n",
      "        [-0.9141,  0.0725,  1.0977]], device='cuda:0',\n",
      "       grad_fn=<AddmmBackward0>)\n",
      "tensor([1, 1, 1, 1], device='cuda:0')\n",
      "tensor([[ 0.5712, -0.4660, -0.1736],\n",
      "        [ 1.0669,  0.2177, -1.6468],\n",
      "        [-0.6378,  0.1942,  0.8586],\n",
      "        [-1.2483,  0.0387,  1.1843]], device='cuda:0',\n",
      "       grad_fn=<AddmmBackward0>)\n",
      "tensor([0, 1, 1, 1], device='cuda:0')\n",
      "tensor([[-0.5879,  1.0499, -0.0745],\n",
      "        [ 0.9471,  0.3843, -1.2252],\n",
      "        [ 0.8504, -0.0871, -1.5735],\n",
      "        [-0.4974,  0.1861,  0.3957]], device='cuda:0',\n",
      "       grad_fn=<AddmmBackward0>)\n",
      "tensor([1, 1, 1, 1], device='cuda:0')\n",
      "tensor([[ 0.6697, -0.0456,  0.4584],\n",
      "        [-0.5566, -0.5221,  0.2671],\n",
      "        [ 0.0894, -1.0726, -1.3111],\n",
      "        [ 0.0187, -0.3602,  0.3798]], device='cuda:0',\n",
      "       grad_fn=<AddmmBackward0>)\n",
      "Done!\n"
     ]
    }
   ],
   "source": [
    "epochs = 1\n",
    "for t in range(epochs):\n",
    "    print(f\"Epoch {t+1}\\n-------------------------------\")\n",
    "    train(dl, model, loss_fn, optimizer)\n",
    "print(\"Done!\")"
   ]
  },
  {
   "cell_type": "code",
   "execution_count": null,
   "id": "ef2f1f45",
   "metadata": {},
   "outputs": [],
   "source": []
  },
  {
   "cell_type": "code",
   "execution_count": null,
   "id": "6b38a30a",
   "metadata": {},
   "outputs": [],
   "source": []
  },
  {
   "cell_type": "code",
   "execution_count": null,
   "id": "705f1405",
   "metadata": {},
   "outputs": [],
   "source": []
  },
  {
   "cell_type": "code",
   "execution_count": 17,
   "id": "0dae29a9",
   "metadata": {},
   "outputs": [],
   "source": [
    "#| hide\n",
    "import nbdev; nbdev.nbdev_export()"
   ]
  },
  {
   "cell_type": "code",
   "execution_count": null,
   "id": "3707543b",
   "metadata": {},
   "outputs": [],
   "source": []
  }
 ],
 "metadata": {
  "@webio": {
   "lastCommId": null,
   "lastKernelId": null
  },
  "kernelspec": {
   "display_name": "Python 3 (ipykernel)",
   "language": "python",
   "name": "python3"
  },
  "language_info": {
   "codemirror_mode": {
    "name": "ipython",
    "version": 3
   },
   "file_extension": ".py",
   "mimetype": "text/x-python",
   "name": "python",
   "nbconvert_exporter": "python",
   "pygments_lexer": "ipython3",
   "version": "3.10.4"
  },
  "toc": {
   "base_numbering": 1,
   "nav_menu": {},
   "number_sections": true,
   "sideBar": true,
   "skip_h1_title": false,
   "title_cell": "Table of Contents",
   "title_sidebar": "Contents",
   "toc_cell": false,
   "toc_position": {},
   "toc_section_display": true,
   "toc_window_display": false
  }
 },
 "nbformat": 4,
 "nbformat_minor": 5
}
