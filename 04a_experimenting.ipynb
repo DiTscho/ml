{
 "cells": [
  {
   "cell_type": "code",
   "execution_count": 1,
   "id": "38133e5f",
   "metadata": {},
   "outputs": [
    {
     "data": {
      "text/plain": [
       "'2.7.9'"
      ]
     },
     "execution_count": 1,
     "metadata": {},
     "output_type": "execute_result"
    }
   ],
   "source": [
    "%reload_ext autoreload\n",
    "%autoreload 2\n",
    "%matplotlib inline\n",
    "\n",
    "import fastai\n",
    "from fastai.vision import *\n",
    "from fastai.callback.tracker import SaveModelCallback\n",
    "import os\n",
    "#from sklearn.model_selection import KFold\n",
    "from torch.optim import RAdam\n",
    "#from csvlogger import *\n",
    "from torch.nn import Mish\n",
    "from sklearn.model_selection import StratifiedKFold\n",
    "from sklearn.metrics import cohen_kappa_score,confusion_matrix\n",
    "import pandas as pd\n",
    "import warnings\n",
    "warnings.filterwarnings(\"ignore\")\n",
    "\n",
    "fastai.__version__"
   ]
  },
  {
   "cell_type": "code",
   "execution_count": 2,
   "id": "570d259e",
   "metadata": {},
   "outputs": [],
   "source": [
    "sz = 128\n",
    "bs = 4\n",
    "nfolds = 4\n",
    "SEED = 2022\n",
    "N = 12 #number of tiles per image"
   ]
  },
  {
   "cell_type": "markdown",
   "id": "98356abf",
   "metadata": {},
   "source": [
    "## Data"
   ]
  },
  {
   "cell_type": "code",
   "execution_count": 3,
   "id": "3210b8cc",
   "metadata": {},
   "outputs": [],
   "source": [
    "#|export\n",
    "from ml.nb_03_dataset import *"
   ]
  },
  {
   "cell_type": "code",
   "execution_count": 43,
   "id": "32899d91",
   "metadata": {},
   "outputs": [],
   "source": [
    "from fastai.data.core import DataLoaders"
   ]
  },
  {
   "cell_type": "code",
   "execution_count": 50,
   "id": "768e6a14",
   "metadata": {},
   "outputs": [],
   "source": [
    "from fastai.vision.all import *"
   ]
  },
  {
   "cell_type": "code",
   "execution_count": 37,
   "id": "8c605155",
   "metadata": {},
   "outputs": [],
   "source": [
    "import seaborn as sns\n",
    "import numpy as np"
   ]
  },
  {
   "cell_type": "code",
   "execution_count": 5,
   "id": "70607fcb",
   "metadata": {},
   "outputs": [
    {
     "data": {
      "text/plain": [
       "(1180, 95)"
      ]
     },
     "execution_count": 5,
     "metadata": {},
     "output_type": "execute_result"
    }
   ],
   "source": [
    "df = pd.read_pickle(\"data/df_all_2022_10_06.pkl\")\n",
    "df.shape"
   ]
  },
  {
   "cell_type": "code",
   "execution_count": 6,
   "id": "c02b139e",
   "metadata": {},
   "outputs": [
    {
     "name": "stdout",
     "output_type": "stream",
     "text": [
      "(1177, 95)\n"
     ]
    }
   ],
   "source": [
    "df.loc[df[\"G\"]==\"2\", \"G\"] = 2\n",
    "df = df.loc[df[\"G\"]!=\"1,2\"]\n",
    "print(df.shape)"
   ]
  },
  {
   "cell_type": "code",
   "execution_count": 7,
   "id": "9c75eca7",
   "metadata": {},
   "outputs": [
    {
     "data": {
      "text/plain": [
       "2    982\n",
       "1    126\n",
       "3     69\n",
       "Name: G, dtype: int64"
      ]
     },
     "execution_count": 7,
     "metadata": {},
     "output_type": "execute_result"
    }
   ],
   "source": [
    "df.G.value_counts()"
   ]
  },
  {
   "cell_type": "code",
   "execution_count": null,
   "id": "4ecf6b74",
   "metadata": {},
   "outputs": [],
   "source": [
    "df[\"label\"]= df[\"G\"]"
   ]
  },
  {
   "cell_type": "code",
   "execution_count": 38,
   "id": "13dda4a8",
   "metadata": {},
   "outputs": [],
   "source": [
    "def split_df(df, n=0.8 # percentage training\n",
    "            ):\n",
    "    df = df.sample(frac=1)\n",
    "    msk = np.random.rand(len(df)) < n\n",
    "    return df[msk], df[~msk]"
   ]
  },
  {
   "cell_type": "code",
   "execution_count": 39,
   "id": "180e7b9a",
   "metadata": {},
   "outputs": [],
   "source": [
    "df_train, df_test = split_df(df)"
   ]
  },
  {
   "cell_type": "code",
   "execution_count": 40,
   "id": "4aa67169",
   "metadata": {},
   "outputs": [
    {
     "data": {
      "text/plain": [
       "((941, 95), (236, 95))"
      ]
     },
     "execution_count": 40,
     "metadata": {},
     "output_type": "execute_result"
    }
   ],
   "source": [
    "df_train.shape, df_test.shape"
   ]
  },
  {
   "cell_type": "code",
   "execution_count": 42,
   "id": "5dcb161d",
   "metadata": {},
   "outputs": [],
   "source": [
    "ds_train = PatchedDataSet(p_outx, df_train, \"G\", \"stime_10y_dom\", N, mean_img, std_img)\n",
    "ds_test = PatchedDataSet(p_outx, df_test, \"G\", \"stime_10y_dom\", N, mean_img, std_img)"
   ]
  },
  {
   "cell_type": "code",
   "execution_count": 41,
   "id": "60a6749e",
   "metadata": {},
   "outputs": [],
   "source": [
    "#ds = PatchedDataSet(p_outy, df, \"G\", \"stime_10y_dom\", N, mean_mask, std_mask)\n",
    "#i = 1\n",
    "#arr = ds[i][0].cpu().detach().numpy()\n",
    "#arr.shape\n",
    "#img = arr[0,0,:]\n",
    "#img.shape\n",
    "#sns.heatmap(img , cmap = 'coolwarm', xticklabels=False, yticklabels=False);\n",
    "#sns.heatmap(img , cmap = 'coolwarm', xticklabels=False, yticklabels=False);"
   ]
  },
  {
   "cell_type": "code",
   "execution_count": 61,
   "id": "106b3038",
   "metadata": {},
   "outputs": [],
   "source": [
    "dls = DataLoaders.from_dsets(ds_train, ds_test)"
   ]
  },
  {
   "cell_type": "code",
   "execution_count": 62,
   "id": "0c7c82b0",
   "metadata": {},
   "outputs": [],
   "source": [
    "dls = dls.cuda()"
   ]
  },
  {
   "cell_type": "code",
   "execution_count": 67,
   "id": "d158242a",
   "metadata": {},
   "outputs": [],
   "source": [
    "b = dls.one_batch()"
   ]
  },
  {
   "cell_type": "code",
   "execution_count": 69,
   "id": "6835d84d",
   "metadata": {},
   "outputs": [
    {
     "name": "stdout",
     "output_type": "stream",
     "text": [
      "2 torch.Size([64, 12, 3, 128, 128]) torch.Size([64])\n"
     ]
    }
   ],
   "source": [
    "print(len(b), b[0].size(), b[1].size())"
   ]
  },
  {
   "cell_type": "code",
   "execution_count": null,
   "id": "0af0de92",
   "metadata": {},
   "outputs": [],
   "source": []
  },
  {
   "cell_type": "code",
   "execution_count": null,
   "id": "fbc66adf",
   "metadata": {},
   "outputs": [],
   "source": []
  },
  {
   "cell_type": "code",
   "execution_count": null,
   "id": "3cf53e18",
   "metadata": {},
   "outputs": [],
   "source": []
  },
  {
   "cell_type": "code",
   "execution_count": 55,
   "id": "83539914",
   "metadata": {},
   "outputs": [
    {
     "ename": "AttributeError",
     "evalue": "'Tensor' object has no attribute 'show'",
     "output_type": "error",
     "traceback": [
      "\u001b[0;31m---------------------------------------------------------------------------\u001b[0m",
      "\u001b[0;31mAttributeError\u001b[0m                            Traceback (most recent call last)",
      "Input \u001b[0;32mIn [55]\u001b[0m, in \u001b[0;36m<cell line: 1>\u001b[0;34m()\u001b[0m\n\u001b[0;32m----> 1\u001b[0m \u001b[43mdls\u001b[49m\u001b[38;5;241;43m.\u001b[39;49m\u001b[43mshow_batch\u001b[49m\u001b[43m(\u001b[49m\u001b[43m)\u001b[49m\n",
      "File \u001b[0;32m~/anaconda3/envs/niendorf/lib/python3.10/site-packages/fastai/data/core.py:151\u001b[0m, in \u001b[0;36mTfmdDL.show_batch\u001b[0;34m(self, b, max_n, ctxs, show, unique, **kwargs)\u001b[0m\n\u001b[1;32m    149\u001b[0m \u001b[38;5;28;01mif\u001b[39;00m b \u001b[38;5;129;01mis\u001b[39;00m \u001b[38;5;28;01mNone\u001b[39;00m: b \u001b[38;5;241m=\u001b[39m \u001b[38;5;28mself\u001b[39m\u001b[38;5;241m.\u001b[39mone_batch()\n\u001b[1;32m    150\u001b[0m \u001b[38;5;28;01mif\u001b[39;00m \u001b[38;5;129;01mnot\u001b[39;00m show: \u001b[38;5;28;01mreturn\u001b[39;00m \u001b[38;5;28mself\u001b[39m\u001b[38;5;241m.\u001b[39m_pre_show_batch(b, max_n\u001b[38;5;241m=\u001b[39mmax_n)\n\u001b[0;32m--> 151\u001b[0m \u001b[43mshow_batch\u001b[49m\u001b[43m(\u001b[49m\u001b[38;5;241;43m*\u001b[39;49m\u001b[38;5;28;43mself\u001b[39;49m\u001b[38;5;241;43m.\u001b[39;49m\u001b[43m_pre_show_batch\u001b[49m\u001b[43m(\u001b[49m\u001b[43mb\u001b[49m\u001b[43m,\u001b[49m\u001b[43m \u001b[49m\u001b[43mmax_n\u001b[49m\u001b[38;5;241;43m=\u001b[39;49m\u001b[43mmax_n\u001b[49m\u001b[43m)\u001b[49m\u001b[43m,\u001b[49m\u001b[43m \u001b[49m\u001b[43mctxs\u001b[49m\u001b[38;5;241;43m=\u001b[39;49m\u001b[43mctxs\u001b[49m\u001b[43m,\u001b[49m\u001b[43m \u001b[49m\u001b[43mmax_n\u001b[49m\u001b[38;5;241;43m=\u001b[39;49m\u001b[43mmax_n\u001b[49m\u001b[43m,\u001b[49m\u001b[43m \u001b[49m\u001b[38;5;241;43m*\u001b[39;49m\u001b[38;5;241;43m*\u001b[39;49m\u001b[43mkwargs\u001b[49m\u001b[43m)\u001b[49m\n\u001b[1;32m    152\u001b[0m \u001b[38;5;28;01mif\u001b[39;00m unique: \u001b[38;5;28mself\u001b[39m\u001b[38;5;241m.\u001b[39mget_idxs \u001b[38;5;241m=\u001b[39m old_get_idxs\n",
      "File \u001b[0;32m~/anaconda3/envs/niendorf/lib/python3.10/site-packages/fastcore/dispatch.py:120\u001b[0m, in \u001b[0;36mTypeDispatch.__call__\u001b[0;34m(self, *args, **kwargs)\u001b[0m\n\u001b[1;32m    118\u001b[0m \u001b[38;5;28;01melif\u001b[39;00m \u001b[38;5;28mself\u001b[39m\u001b[38;5;241m.\u001b[39minst \u001b[38;5;129;01mis\u001b[39;00m \u001b[38;5;129;01mnot\u001b[39;00m \u001b[38;5;28;01mNone\u001b[39;00m: f \u001b[38;5;241m=\u001b[39m MethodType(f, \u001b[38;5;28mself\u001b[39m\u001b[38;5;241m.\u001b[39minst)\n\u001b[1;32m    119\u001b[0m \u001b[38;5;28;01melif\u001b[39;00m \u001b[38;5;28mself\u001b[39m\u001b[38;5;241m.\u001b[39mowner \u001b[38;5;129;01mis\u001b[39;00m \u001b[38;5;129;01mnot\u001b[39;00m \u001b[38;5;28;01mNone\u001b[39;00m: f \u001b[38;5;241m=\u001b[39m MethodType(f, \u001b[38;5;28mself\u001b[39m\u001b[38;5;241m.\u001b[39mowner)\n\u001b[0;32m--> 120\u001b[0m \u001b[38;5;28;01mreturn\u001b[39;00m \u001b[43mf\u001b[49m\u001b[43m(\u001b[49m\u001b[38;5;241;43m*\u001b[39;49m\u001b[43margs\u001b[49m\u001b[43m,\u001b[49m\u001b[43m \u001b[49m\u001b[38;5;241;43m*\u001b[39;49m\u001b[38;5;241;43m*\u001b[39;49m\u001b[43mkwargs\u001b[49m\u001b[43m)\u001b[49m\n",
      "File \u001b[0;32m~/anaconda3/envs/niendorf/lib/python3.10/site-packages/fastai/data/core.py:28\u001b[0m, in \u001b[0;36mshow_batch\u001b[0;34m(x, y, samples, ctxs, max_n, **kwargs)\u001b[0m\n\u001b[1;32m     26\u001b[0m \u001b[38;5;28;01melse\u001b[39;00m:\n\u001b[1;32m     27\u001b[0m     \u001b[38;5;28;01mfor\u001b[39;00m i \u001b[38;5;129;01min\u001b[39;00m range_of(samples[\u001b[38;5;241m0\u001b[39m]):\n\u001b[0;32m---> 28\u001b[0m         ctxs \u001b[38;5;241m=\u001b[39m [b\u001b[38;5;241m.\u001b[39mshow(ctx\u001b[38;5;241m=\u001b[39mc, \u001b[38;5;241m*\u001b[39m\u001b[38;5;241m*\u001b[39mkwargs) \u001b[38;5;28;01mfor\u001b[39;00m b,c,_ \u001b[38;5;129;01min\u001b[39;00m \u001b[38;5;28mzip\u001b[39m(samples\u001b[38;5;241m.\u001b[39mitemgot(i),ctxs,\u001b[38;5;28mrange\u001b[39m(max_n))]\n\u001b[1;32m     29\u001b[0m \u001b[38;5;28;01mreturn\u001b[39;00m ctxs\n",
      "File \u001b[0;32m~/anaconda3/envs/niendorf/lib/python3.10/site-packages/fastai/data/core.py:28\u001b[0m, in \u001b[0;36m<listcomp>\u001b[0;34m(.0)\u001b[0m\n\u001b[1;32m     26\u001b[0m \u001b[38;5;28;01melse\u001b[39;00m:\n\u001b[1;32m     27\u001b[0m     \u001b[38;5;28;01mfor\u001b[39;00m i \u001b[38;5;129;01min\u001b[39;00m range_of(samples[\u001b[38;5;241m0\u001b[39m]):\n\u001b[0;32m---> 28\u001b[0m         ctxs \u001b[38;5;241m=\u001b[39m [\u001b[43mb\u001b[49m\u001b[38;5;241;43m.\u001b[39;49m\u001b[43mshow\u001b[49m(ctx\u001b[38;5;241m=\u001b[39mc, \u001b[38;5;241m*\u001b[39m\u001b[38;5;241m*\u001b[39mkwargs) \u001b[38;5;28;01mfor\u001b[39;00m b,c,_ \u001b[38;5;129;01min\u001b[39;00m \u001b[38;5;28mzip\u001b[39m(samples\u001b[38;5;241m.\u001b[39mitemgot(i),ctxs,\u001b[38;5;28mrange\u001b[39m(max_n))]\n\u001b[1;32m     29\u001b[0m \u001b[38;5;28;01mreturn\u001b[39;00m ctxs\n",
      "\u001b[0;31mAttributeError\u001b[0m: 'Tensor' object has no attribute 'show'"
     ]
    }
   ],
   "source": [
    "dblock = DataBlock(\n",
    "  blocks=(ImageBlock, CategoryBlock),      # one image input and one categorical targets\n",
    "  getters=[ColReader('path'),   # image input\n",
    "           ColReader('label')],                    # label 1\n",
    "  splitter=RandomSplitter(valid_pct=0.2, seed=42),\n",
    "    item_tfms= Normalize(mean_img[0], std_img[0])\n",
    "           )\n",
    "dls_x = dblock.dataloaders(df_x, bs=64)   # Create the dataloaders"
   ]
  },
  {
   "cell_type": "code",
   "execution_count": null,
   "id": "9c6fdc1f",
   "metadata": {},
   "outputs": [],
   "source": []
  }
 ],
 "metadata": {
  "@webio": {
   "lastCommId": null,
   "lastKernelId": null
  },
  "kernelspec": {
   "display_name": "Python 3 (ipykernel)",
   "language": "python",
   "name": "python3"
  },
  "language_info": {
   "codemirror_mode": {
    "name": "ipython",
    "version": 3
   },
   "file_extension": ".py",
   "mimetype": "text/x-python",
   "name": "python",
   "nbconvert_exporter": "python",
   "pygments_lexer": "ipython3",
   "version": "3.10.4"
  },
  "toc": {
   "base_numbering": 1,
   "nav_menu": {},
   "number_sections": true,
   "sideBar": true,
   "skip_h1_title": false,
   "title_cell": "Table of Contents",
   "title_sidebar": "Contents",
   "toc_cell": false,
   "toc_position": {},
   "toc_section_display": true,
   "toc_window_display": false
  }
 },
 "nbformat": 4,
 "nbformat_minor": 5
}
