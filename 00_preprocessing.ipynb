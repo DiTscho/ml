{
 "cells": [
  {
   "cell_type": "markdown",
   "metadata": {},
   "source": [
    "# Preprocessing\n",
    "\n",
    "> Prepcocess data: load histo and mask images as well as tabular clinical data from directories to generate one data frame."
   ]
  },
  {
   "cell_type": "code",
   "execution_count": 9,
   "metadata": {},
   "outputs": [],
   "source": [
    "#| default_exp nb_00_preprocessing"
   ]
  },
  {
   "cell_type": "code",
   "execution_count": 10,
   "metadata": {},
   "outputs": [],
   "source": [
    "#| hide\n",
    "from nbdev.showdoc import *"
   ]
  },
  {
   "cell_type": "code",
   "execution_count": 11,
   "metadata": {},
   "outputs": [],
   "source": [
    "#| export\n",
    "from pathlib import Path\n",
    "import os\n",
    "from PIL import Image\n",
    "import matplotlib.pyplot as plt\n",
    "import numpy as np\n",
    "\n",
    "Path.ls = lambda x: list(x.iterdir())"
   ]
  },
  {
   "cell_type": "markdown",
   "metadata": {},
   "source": [
    "## Images"
   ]
  },
  {
   "cell_type": "code",
   "execution_count": 4,
   "metadata": {},
   "outputs": [],
   "source": [
    "path_x = Path(\"/media/dimi/TOSHIBA EXT/Dimitrij Original Images\")\n",
    "path_y = Path(\"/media/dimi/TOSHIBA EXT/Dimitrij Shape Masks\")"
   ]
  },
  {
   "cell_type": "code",
   "execution_count": 5,
   "metadata": {},
   "outputs": [],
   "source": [
    "#| export\n",
    "def _get_files(p, fs, extensions=None):\n",
    "    p = Path(p)\n",
    "    res = [p/f for f in fs if not f.startswith('.')\n",
    "           and ((not extensions) or f'.{f.split(\".\")[-1].lower()}' in extensions)]\n",
    "    return res\n",
    "\n",
    "def get_files(path, extensions=None, recurse=False, include=None):\n",
    "    \"Source: fast.ai, Jeremy Howard\"\n",
    "    path = Path(path)\n",
    "    extensions = {e.lower() for e in extensions}\n",
    "    if recurse:\n",
    "        res = []\n",
    "        for i,(p,d,f) in enumerate(os.walk(path)): # returns (dirpath, dirnames, filenames)\n",
    "            if include is not None and i==0: d[:] = [o for o in d if o in include]\n",
    "            else:                            d[:] = [o for o in d if not o.startswith('.')]\n",
    "            res += _get_files(p, f, extensions)\n",
    "        return res\n",
    "    else:\n",
    "        f = [o.name for o in os.scandir(path) if o.is_file()]\n",
    "        return _get_files(path, f, extensions)"
   ]
  },
  {
   "cell_type": "code",
   "execution_count": 6,
   "metadata": {},
   "outputs": [
    {
     "data": {
      "text/plain": [
       "(1316, 1229)"
      ]
     },
     "execution_count": 6,
     "metadata": {},
     "output_type": "execute_result"
    }
   ],
   "source": [
    "fn_x = get_files(path_x, recurse=True, extensions=[\".tif\"])\n",
    "fn_y = get_files(path_y, recurse=True, extensions=[\".tif\"])\n",
    "len(fn_x), len(fn_y)"
   ]
  },
  {
   "cell_type": "markdown",
   "metadata": {
    "heading_collapsed": true
   },
   "source": [
    "## Clinical data"
   ]
  },
  {
   "cell_type": "code",
   "execution_count": 7,
   "metadata": {
    "hidden": true
   },
   "outputs": [],
   "source": [
    "path_c = Path(\"/media/dimi/TOSHIBA EXT/Dimitrij Single Cores/allTXT\")"
   ]
  },
  {
   "cell_type": "code",
   "execution_count": 8,
   "metadata": {
    "hidden": true
   },
   "outputs": [],
   "source": [
    "fn_c = get_files(path_c, recurse=False, extensions=[\".txt\"])"
   ]
  },
  {
   "cell_type": "code",
   "execution_count": 9,
   "metadata": {
    "hidden": true
   },
   "outputs": [],
   "source": [
    "#| export \n",
    "import pandas as pd"
   ]
  },
  {
   "cell_type": "markdown",
   "metadata": {
    "heading_collapsed": true
   },
   "source": [
    "## One clinical dataframe"
   ]
  },
  {
   "cell_type": "code",
   "execution_count": 10,
   "metadata": {
    "hidden": true
   },
   "outputs": [],
   "source": [
    "#|export\n",
    "def get_clinical_data(p):\n",
    "    \"p: path to directory with files\"\n",
    "    dfs = []\n",
    "    for fn in p:\n",
    "        df = pd.read_csv(fn, sep=\"\\t\", encoding = \"ISO-8859-1\", engine=\"python\")\n",
    "        df = df[df.columns.drop(list(df.filter(regex='Unnamed')))]\n",
    "        df.insert(0, 'TMA_ID', fn.stem)\n",
    "        dfs.append(df)\n",
    "    return pd.concat(dfs)"
   ]
  },
  {
   "cell_type": "code",
   "execution_count": 11,
   "metadata": {
    "hidden": true
   },
   "outputs": [],
   "source": [
    "df_c = get_clinical_data(fn_c)"
   ]
  },
  {
   "cell_type": "code",
   "execution_count": 12,
   "metadata": {
    "hidden": true
   },
   "outputs": [
    {
     "data": {
      "text/plain": [
       "(3133, 66)"
      ]
     },
     "execution_count": 12,
     "metadata": {},
     "output_type": "execute_result"
    }
   ],
   "source": [
    "df_c.shape"
   ]
  },
  {
   "cell_type": "markdown",
   "metadata": {},
   "source": [
    "## One images dataframe"
   ]
  },
  {
   "cell_type": "code",
   "execution_count": 13,
   "metadata": {},
   "outputs": [],
   "source": [
    "#| export\n",
    "def _get_tma_id(fn):\n",
    "    \"\"\"fn: pathlib path to file\"\"\"\n",
    "    tma = fn.parent.name.split('_')[0]\n",
    "    return tma[:-2] + tma[-2:].lstrip('0')\n",
    "\n",
    "def get_tma_id(fns):\n",
    "    \"\"\"fns: list of pathlib paths\"\"\"\n",
    "    return list(map(_get_tma_id, fns))"
   ]
  },
  {
   "cell_type": "code",
   "execution_count": 14,
   "metadata": {},
   "outputs": [],
   "source": [
    "#| export\n",
    "def _get_tma_spot(fn):\n",
    "    \"\"\"fn: pathlib path to file\"\"\"\n",
    "    f = fn.stem[-1]+fn.stem[:-2]\n",
    "    return f if len(f)==3 else f[0]+'0'+f[1] \n",
    "\n",
    "def get_tma_spot(fns):\n",
    "    \"\"\"fns: list of pathlib paths\"\"\"\n",
    "    return list(map(_get_tma_spot, fns))"
   ]
  },
  {
   "cell_type": "code",
   "execution_count": 15,
   "metadata": {},
   "outputs": [],
   "source": [
    "df_x = pd.DataFrame({'TMA_ID': get_tma_id(fn_x), \n",
    "                     'TMA-Spot':get_tma_spot(fn_x), \n",
    "                     'fn_x':fn_x})\n",
    "\n",
    "df_y = pd.DataFrame({'TMA_ID': get_tma_id(fn_y), \n",
    "                     'TMA-Spot':get_tma_spot(fn_y), \n",
    "                     'fn_x':fn_y})"
   ]
  },
  {
   "cell_type": "code",
   "execution_count": 16,
   "metadata": {},
   "outputs": [
    {
     "data": {
      "text/plain": [
       "(1316, 3)"
      ]
     },
     "execution_count": 16,
     "metadata": {},
     "output_type": "execute_result"
    }
   ],
   "source": [
    "df_x.shape"
   ]
  },
  {
   "cell_type": "code",
   "execution_count": 17,
   "metadata": {},
   "outputs": [
    {
     "data": {
      "text/plain": [
       "(1229, 3)"
      ]
     },
     "execution_count": 17,
     "metadata": {},
     "output_type": "execute_result"
    }
   ],
   "source": [
    "df_y.shape"
   ]
  },
  {
   "cell_type": "code",
   "execution_count": 18,
   "metadata": {},
   "outputs": [],
   "source": [
    "df_xy = pd.merge(df_x, df_y, on=[\"TMA_ID\", \"TMA-Spot\"])"
   ]
  },
  {
   "cell_type": "code",
   "execution_count": 19,
   "metadata": {},
   "outputs": [
    {
     "data": {
      "text/plain": [
       "(1229, 4)"
      ]
     },
     "execution_count": 19,
     "metadata": {},
     "output_type": "execute_result"
    }
   ],
   "source": [
    "df_xy.shape"
   ]
  },
  {
   "cell_type": "code",
   "execution_count": 20,
   "metadata": {},
   "outputs": [],
   "source": [
    "df_all = pd.merge(df_xy, df_c, on=[\"TMA_ID\", \"TMA-Spot\"])"
   ]
  },
  {
   "cell_type": "code",
   "execution_count": 21,
   "metadata": {},
   "outputs": [
    {
     "data": {
      "text/plain": [
       "(1180, 68)"
      ]
     },
     "execution_count": 21,
     "metadata": {},
     "output_type": "execute_result"
    }
   ],
   "source": [
    "df_all.shape"
   ]
  },
  {
   "cell_type": "markdown",
   "metadata": {},
   "source": [
    "## All together"
   ]
  },
  {
   "cell_type": "code",
   "execution_count": 26,
   "metadata": {},
   "outputs": [],
   "source": [
    "path_x = Path(\"/media/dimi/TOSHIBA EXT/Dimitrij Original Images\")\n",
    "path_y = Path(\"/media/dimi/TOSHIBA EXT/Dimitrij Shape Masks\")\n",
    "path_c = Path(\"/media/dimi/TOSHIBA EXT/Dimitrij Single Cores/allTXT\")"
   ]
  },
  {
   "cell_type": "code",
   "execution_count": 27,
   "metadata": {},
   "outputs": [],
   "source": [
    "fn_x = get_files(path_x, recurse=True, extensions=[\".tif\"])\n",
    "fn_y = get_files(path_y, recurse=True, extensions=[\".tif\"])\n",
    "fn_c = get_files(path_c, recurse=False, extensions=[\".txt\"])"
   ]
  },
  {
   "cell_type": "code",
   "execution_count": 28,
   "metadata": {},
   "outputs": [],
   "source": [
    "df_x = pd.DataFrame({'TMA_ID': get_tma_id(fn_x), \n",
    "                     'TMA-Spot':get_tma_spot(fn_x), \n",
    "                     'fn_x':fn_x})\n",
    "\n",
    "df_y = pd.DataFrame({'TMA_ID': get_tma_id(fn_y), \n",
    "                     'TMA-Spot':get_tma_spot(fn_y), \n",
    "                     'fn_y':fn_y})\n",
    "\n",
    "df_c = get_clinical_data(fn_c)\n",
    "\n",
    "df_xy = pd.merge(df_x, df_y, on=[\"TMA_ID\", \"TMA-Spot\"])\n",
    "df_all = pd.merge(df_xy, df_c, on=[\"TMA_ID\", \"TMA-Spot\"])"
   ]
  },
  {
   "cell_type": "code",
   "execution_count": 29,
   "metadata": {},
   "outputs": [
    {
     "data": {
      "text/plain": [
       "array(['TMA1', 'TMA2', 'TMA25', 'TMA26', 'TMA27', 'TMA28', 'TMA29',\n",
       "       'TMA3', 'TMA5', 'TMA6', 'TMA7', 'TMA8'], dtype=object)"
      ]
     },
     "execution_count": 29,
     "metadata": {},
     "output_type": "execute_result"
    }
   ],
   "source": [
    "np.unique(df_all.TMA_ID)"
   ]
  },
  {
   "cell_type": "code",
   "execution_count": 30,
   "metadata": {},
   "outputs": [],
   "source": [
    "df_all[\"Type\"] = 'NaN'"
   ]
  },
  {
   "cell_type": "code",
   "execution_count": 31,
   "metadata": {},
   "outputs": [],
   "source": [
    "df_all.loc[df_all.TMA_ID=='TMA1', \"Type\"] = \"Greyzone\"\n",
    "df_all.loc[df_all.TMA_ID=='TMA2', \"Type\"] = \"Greyzone\"\n",
    "df_all.loc[df_all.TMA_ID=='TMA3', \"Type\"] = \"Greyzone\"\n",
    "\n",
    "df_all.loc[df_all.TMA_ID=='TMA5', \"Type\"] = \"Cohort\"\n",
    "df_all.loc[df_all.TMA_ID=='TMA6', \"Type\"] = \"Cohort\"\n",
    "df_all.loc[df_all.TMA_ID=='TMA7', \"Type\"] = \"Cohort\"\n",
    "df_all.loc[df_all.TMA_ID=='TMA8', \"Type\"] = \"Cohort\"\n",
    "\n",
    "df_all.loc[df_all.TMA_ID=='TMA25', \"Type\"] = \"TAM-only\"\n",
    "df_all.loc[df_all.TMA_ID=='TMA26', \"Type\"] = \"TAM-only\"\n",
    "df_all.loc[df_all.TMA_ID=='TMA27', \"Type\"] = \"TAM-only\"\n",
    "df_all.loc[df_all.TMA_ID=='TMA28', \"Type\"] = \"TAM-only\"\n",
    "df_all.loc[df_all.TMA_ID=='TMA29', \"Type\"] = \"TAM-only\""
   ]
  },
  {
   "cell_type": "code",
   "execution_count": 32,
   "metadata": {},
   "outputs": [
    {
     "data": {
      "text/plain": [
       "array(['Greyzone', 'Cohort', 'TAM-only'], dtype=object)"
      ]
     },
     "execution_count": 32,
     "metadata": {},
     "output_type": "execute_result"
    }
   ],
   "source": [
    "df_all.Type.unique()"
   ]
  },
  {
   "cell_type": "markdown",
   "metadata": {},
   "source": [
    "## Save data frame"
   ]
  },
  {
   "cell_type": "code",
   "execution_count": 34,
   "metadata": {},
   "outputs": [],
   "source": [
    "df_all.to_pickle(\"data/df_all.pkl\")"
   ]
  },
  {
   "cell_type": "code",
   "execution_count": 24,
   "metadata": {},
   "outputs": [],
   "source": [
    "#| hide\n",
    "import nbdev; nbdev.nbdev_export()"
   ]
  }
 ],
 "metadata": {
  "@webio": {
   "lastCommId": null,
   "lastKernelId": null
  },
  "kernelspec": {
   "display_name": "Python 3 (ipykernel)",
   "language": "python",
   "name": "python3"
  },
  "language_info": {
   "codemirror_mode": {
    "name": "ipython",
    "version": 3
   },
   "file_extension": ".py",
   "mimetype": "text/x-python",
   "name": "python",
   "nbconvert_exporter": "python",
   "pygments_lexer": "ipython3",
   "version": "3.10.4"
  },
  "toc": {
   "base_numbering": 1,
   "nav_menu": {},
   "number_sections": true,
   "sideBar": true,
   "skip_h1_title": false,
   "title_cell": "Table of Contents",
   "title_sidebar": "Contents",
   "toc_cell": false,
   "toc_position": {},
   "toc_section_display": true,
   "toc_window_display": false
  }
 },
 "nbformat": 4,
 "nbformat_minor": 4
}
